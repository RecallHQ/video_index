{
 "cells": [
  {
   "cell_type": "code",
   "execution_count": 1,
   "metadata": {},
   "outputs": [
    {
     "name": "stderr",
     "output_type": "stream",
     "text": [
      "/Users/usarfraz/extra_stuff/llm_bootcamp/video_index/.venv/lib/python3.12/site-packages/tqdm/auto.py:21: TqdmWarning: IProgress not found. Please update jupyter and ipywidgets. See https://ipywidgets.readthedocs.io/en/stable/user_install.html\n",
      "  from .autonotebook import tqdm as notebook_tqdm\n"
     ]
    }
   ],
   "source": [
    "from dotenv import load_dotenv\n",
    "\n",
    "from video_index.rags.scraper import perform_web_search\n",
    "from video_index.rags.text_rag import (\n",
    "    create_new_index,\n",
    "    get_llm_response,\n",
    "    get_mm_llm_response,\n",
    "    get_llm_tts_response,\n",
    "    get_media_indices,\n",
    "    search_knowledge_base\n",
    ")\n"
   ]
  },
  {
   "cell_type": "code",
   "execution_count": 2,
   "metadata": {},
   "outputs": [
    {
     "data": {
      "text/plain": [
       "True"
      ]
     },
     "execution_count": 2,
     "metadata": {},
     "output_type": "execute_result"
    }
   ],
   "source": [
    "load_dotenv()"
   ]
  },
  {
   "cell_type": "code",
   "execution_count": 3,
   "metadata": {},
   "outputs": [],
   "source": [
    "media_label = \"Google I/O 2024\"\n",
    "user_query  = \"What are the key highlights?\"\n",
    "messages = []\n",
    "response_container = None\n",
    "storage_root_path='../recallhq/events_kb'"
   ]
  },
  {
   "cell_type": "code",
   "execution_count": 4,
   "metadata": {},
   "outputs": [
    {
     "name": "stdout",
     "output_type": "stream",
     "text": [
      "Creating or Loading new index for Google I/O 2024\n",
      "Lock file is located at ../recallhq/events_kb/Google_I_O_2024/qdrant_mm_db/.lock\n",
      "['.lock', 'collection', 'graph_store.json', 'index_store.json', 'docstore.json', 'meta.json']\n",
      "Removing lock file: ../recallhq/events_kb/Google_I_O_2024/qdrant_mm_db/.lock\n",
      "Loading index from storage: ../recallhq/events_kb/Google_I_O_2024/qdrant_mm_db\n",
      "Loading text index from storage: ../recallhq/events_kb/Google_I_O_2024/text_vector_store\n"
     ]
    }
   ],
   "source": [
    "video_rag_inst = create_new_index(media_label, storage_root_path=storage_root_path)\n",
    "session_state = {media_label: video_rag_inst}"
   ]
  },
  {
   "cell_type": "code",
   "execution_count": 5,
   "metadata": {},
   "outputs": [
    {
     "name": "stdout",
     "output_type": "stream",
     "text": [
      "Query: What are the key highlights? Media label: Google I/O 2024\n",
      "Index documents count: 9999\n",
      "Text only retrieval results: [NodeWithScore(node=TextNode(id_='4314bae3-5042-4a5c-b37f-8129f73338e7', embedding=None, metadata={'file_path': '/Users/usarfraz/extra_stuff/llm_bootcamp/recallhq/events_kb/Google_I_O_2024/data/shards/Behind_the_scenes_at_Google_IO__24_uoKcIGOf7x/text_shard_4.txt', 'file_name': 'text_shard_4.txt', 'file_type': 'text/plain', 'file_size': 844, 'creation_date': '2024-10-04', 'last_modified_date': '2024-10-04', 'timestamps': [[121.18, 124.18], [124.18, 126.18], [126.18, 128.18], [128.18, 133.18], [133.18, 137.94], [137.94, 141.22], [141.22, 142.22], [142.22, 146.1], [146.1, 149.46], [149.46, 154.02]]}, excluded_embed_metadata_keys=['file_name', 'file_type', 'file_size', 'creation_date', 'last_modified_date', 'last_accessed_date'], excluded_llm_metadata_keys=['file_name', 'file_type', 'file_size', 'creation_date', 'last_modified_date', 'last_accessed_date'], relationships={<NodeRelationship.SOURCE: '1'>: RelatedNodeInfo(node_id='1d0a8df1-4538-4d3e-b111-71968c394738', node_type=<ObjectType.DOCUMENT: '4'>, metadata={'file_path': '/Users/usarfraz/extra_stuff/llm_bootcamp/recallhq/events_kb/Google_I_O_2024/data/shards/Behind_the_scenes_at_Google_IO__24_uoKcIGOf7x/text_shard_4.txt', 'file_name': 'text_shard_4.txt', 'file_type': 'text/plain', 'file_size': 844, 'creation_date': '2024-10-04', 'last_modified_date': '2024-10-04', 'timestamps': [[121.18, 124.18], [124.18, 126.18], [126.18, 128.18], [128.18, 133.18], [133.18, 137.94], [137.94, 141.22], [141.22, 142.22], [142.22, 146.1], [146.1, 149.46], [149.46, 154.02]]}, hash='14bf25f19a0186a6b3d9468f9c711045abb9164017c3cdaea976178501d10ae1')}, text=\"are powering new capabilities across our products.\\n And throughout the keynote, we shared how we're building\\n more helpful products and features with AI,\\n including improvements across search, workspace, photos, Android, and more.\\n More than a million people in over 186 countries tuned in live.\\n There were a lot of new announcements in the keynote.\\n Including\\n Gemini 1.5 Pro coming to Gemini Advanced, Gemini 1.5 Flash Project Astro Trillium which\\n is the most performant TPU to date, Lerna Lem, Imagine 3, our highest quality image generation\\n model yet, Vio, VideoFX, Gemini Live, Asphados, Gemini Nano coming to talk back.\", mimetype='text/plain', start_char_idx=1, end_char_idx=629, text_template='{metadata_str}\\n\\n{content}', metadata_template='{key}: {value}', metadata_seperator='\\n'), score=0.7947908312121257), NodeWithScore(node=TextNode(id_='988967d7-d3eb-4aab-babc-17a6ff472cce', embedding=None, metadata={'file_path': '/Users/usarfraz/extra_stuff/llm_bootcamp/recallhq/events_kb/Google_I_O_2024/data/shards/Google_IO_2024_Keynote_Gemini_for_Workspace_ai57uQmZ3h/text_shard_2.txt', 'file_name': 'text_shard_2.txt', 'file_type': 'text/plain', 'file_size': 657, 'creation_date': '2024-10-04', 'last_modified_date': '2024-10-04', 'timestamps': [[115.5, 119.12], [119.12, 120.96], [120.96, 125.6], [125.6, 129.44], [129.44, 132.8], [132.8, 134.2], [134.2, 138.92], [138.92, 141.6], [141.6, 144.96], [144.96, 147.32]]}, excluded_embed_metadata_keys=['file_name', 'file_type', 'file_size', 'creation_date', 'last_modified_date', 'last_accessed_date'], excluded_llm_metadata_keys=['file_name', 'file_type', 'file_size', 'creation_date', 'last_modified_date', 'last_accessed_date'], relationships={<NodeRelationship.SOURCE: '1'>: RelatedNodeInfo(node_id='09a7a8d2-e880-459e-a106-95d4b962dd5f', node_type=<ObjectType.DOCUMENT: '4'>, metadata={'file_path': '/Users/usarfraz/extra_stuff/llm_bootcamp/recallhq/events_kb/Google_I_O_2024/data/shards/Google_IO_2024_Keynote_Gemini_for_Workspace_ai57uQmZ3h/text_shard_2.txt', 'file_name': 'text_shard_2.txt', 'file_type': 'text/plain', 'file_size': 657, 'creation_date': '2024-10-04', 'last_modified_date': '2024-10-04', 'timestamps': [[115.5, 119.12], [119.12, 120.96], [120.96, 125.6], [125.6, 129.44], [129.44, 132.8], [132.8, 134.2], [134.2, 138.92], [138.92, 141.6], [141.6, 144.96], [144.96, 147.32]]}, hash='bd40d37b1cc499a507948cbc49ca2d253ca201f9e25f8fd73cd808d1e87e84df')}, text=\"It looks like there's an email thread on this with lots\\n of emails that I haven't read.\\n And luckily for me, I can simply tap the Summarize option\\n up top and skip reading this long back and forth.\\n Now, Gemini pulls up this helpful mobile card\\n as an overlay.\\n And this is where I can read a nice summary of all the salient\\n information that I need to know.\\n So I see here that we have a quote from Jeff at Green Roofing,\\n and he's ready to start.\", mimetype='text/plain', start_char_idx=1, end_char_idx=449, text_template='{metadata_str}\\n\\n{content}', metadata_template='{key}: {value}', metadata_seperator='\\n'), score=0.790309624323833)]\n",
      "Node ID: 4314bae3-5042-4a5c-b37f-8129f73338e7\n",
      "Text: are powering new capabilities across our products.  And\n",
      "throughout the keynote, we shared how we're building  more helpful\n",
      "products and features with AI,  including improvements across search,\n",
      "workspace, photos, Android, and more.  More than a million people in\n",
      "over 186 countries tuned in live.  There were a lot of new\n",
      "announcements in the keyno...\n",
      "Score:  0.795\n",
      "\n",
      "{'file_path': '/Users/usarfraz/extra_stuff/llm_bootcamp/recallhq/events_kb/Google_I_O_2024/data/shards/Behind_the_scenes_at_Google_IO__24_uoKcIGOf7x/text_shard_4.txt', 'file_name': 'text_shard_4.txt', 'file_type': 'text/plain', 'file_size': 844, 'creation_date': '2024-10-04', 'last_modified_date': '2024-10-04', 'timestamps': [[121.18, 124.18], [124.18, 126.18], [126.18, 128.18], [128.18, 133.18], [133.18, 137.94], [137.94, 141.22], [141.22, 142.22], [142.22, 146.1], [146.1, 149.46], [149.46, 154.02]]}\n",
      "Node ID: 988967d7-d3eb-4aab-babc-17a6ff472cce\n",
      "Text: It looks like there's an email thread on this with lots  of\n",
      "emails that I haven't read.  And luckily for me, I can simply tap the\n",
      "Summarize option  up top and skip reading this long back and forth.\n",
      "Now, Gemini pulls up this helpful mobile card  as an overlay.  And\n",
      "this is where I can read a nice summary of all the salient\n",
      "information that I ne...\n",
      "Score:  0.790\n",
      "\n",
      "{'file_path': '/Users/usarfraz/extra_stuff/llm_bootcamp/recallhq/events_kb/Google_I_O_2024/data/shards/Google_IO_2024_Keynote_Gemini_for_Workspace_ai57uQmZ3h/text_shard_2.txt', 'file_name': 'text_shard_2.txt', 'file_type': 'text/plain', 'file_size': 657, 'creation_date': '2024-10-04', 'last_modified_date': '2024-10-04', 'timestamps': [[115.5, 119.12], [119.12, 120.96], [120.96, 125.6], [125.6, 129.44], [129.44, 132.8], [132.8, 134.2], [134.2, 138.92], [138.92, 141.6], [141.6, 144.96], [144.96, 147.32]]}\n",
      "Number of relevant text documents: 2\n",
      "Number of relevant image documents: 10\n",
      "\n",
      "==================================================\n",
      "\n",
      "Response for media indices: {\n",
      "    \"image_indices\": [0, 1, 2, 3, 4, 5, 6, 7, 8, 9],\n",
      "    \"text_indices\": [0, 1]\n",
      "}\n"
     ]
    }
   ],
   "source": [
    "\n",
    "\n",
    "img_docs, text_docs = search_knowledge_base(user_query, media_label, session_state, storage_root_path=storage_root_path)\n",
    "\n",
    "img_results, text_results = get_media_indices(user_query, text_docs, img_docs, media_label, session_state)\n",
    "response_text, _  = await get_mm_llm_response(user_query, text_docs, img_docs, media_label, session_state, response_container)\n"
   ]
  },
  {
   "cell_type": "code",
   "execution_count": 6,
   "metadata": {},
   "outputs": [
    {
     "name": "stdout",
     "output_type": "stream",
     "text": [
      "The key highlights from Google I/O 2024 include:\n",
      "\n",
      "1. **AI Enhancements**: New AI capabilities across Google products, including search, workspace, photos, and Android.\n",
      "2. **Gemini Updates**: Introduction of Gemini 1.5 Pro, Gemini Advanced, and Gemini Nano, with features like Gemini Live and VideoFX.\n",
      "3. **TPU and Image Generation**: Launch of Project Astro Trillium, the most performant TPU, and Imagine 3, a high-quality image generation model.\n",
      "4. **Focus on User Experience**: Emphasis on focusing on what users care about most.\n",
      "5. **Environmental Themes**: Visuals suggesting a focus on technology's impact on nature.\n",
      "6. **Summarization Features**: Gemini's ability to summarize conversations and emails efficiently.\n"
     ]
    }
   ],
   "source": [
    "print(response_text)"
   ]
  }
 ],
 "metadata": {
  "kernelspec": {
   "display_name": ".venv",
   "language": "python",
   "name": "python3"
  },
  "language_info": {
   "codemirror_mode": {
    "name": "ipython",
    "version": 3
   },
   "file_extension": ".py",
   "mimetype": "text/x-python",
   "name": "python",
   "nbconvert_exporter": "python",
   "pygments_lexer": "ipython3",
   "version": "3.12.7"
  }
 },
 "nbformat": 4,
 "nbformat_minor": 2
}
